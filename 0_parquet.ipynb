{
 "cells": [
  {
   "cell_type": "code",
   "execution_count": null,
   "metadata": {},
   "outputs": [],
   "source": [
    "import pandas as pd\n",
    "import numpy as np\n",
    "%matplotlib inline\n",
    "import joblib as jb\n",
    "\n",
    "import json\n",
    "import tqdm\n",
    "import joblib\n",
    "import gc"
   ]
  },
  {
   "cell_type": "code",
   "execution_count": null,
   "metadata": {},
   "outputs": [],
   "source": [
    "# simple parquet conversion to be fast\n",
    "train = pd.read_json('./data/train_dataset.jl.gz',lines=True)\n",
    "test = pd.read_json('./data/test_dataset.jl.gz',lines=True)\n",
    "item_data = pd.read_json('./data/item_data.jl.gz',lines=True)\n",
    "\n",
    "train.to_parquet(\"./data/train.parquet\", engine='fastparquet', compression='GZIP')\n",
    "test.to_parquet(\"./data/test.parquet\", engine='fastparquet', compression='GZIP')\n",
    "item_data.to_parquet(\"./data/item_data.parquet\", engine='fastparquet', compression='GZIP')"
   ]
  }
 ],
 "metadata": {
  "kernelspec": {
   "display_name": "Python 3",
   "language": "python",
   "name": "python3"
  },
  "language_info": {
   "codemirror_mode": {
    "name": "ipython",
    "version": 3
   },
   "file_extension": ".py",
   "mimetype": "text/x-python",
   "name": "python",
   "nbconvert_exporter": "python",
   "pygments_lexer": "ipython3",
   "version": "3.8.5"
  }
 },
 "nbformat": 4,
 "nbformat_minor": 4
}
